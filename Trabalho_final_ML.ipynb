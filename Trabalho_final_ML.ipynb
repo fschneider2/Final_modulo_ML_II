{
 "cells": [
  {
   "cell_type": "code",
   "execution_count": 1,
   "metadata": {},
   "outputs": [],
   "source": [
    "import pandas as pd\n",
    "import numpy as np \n",
    "import matplotlib.pyplot as plt\n",
    "from pydub import AudioSegment\n",
    "\n",
    "from sklearn.neighbors import KNeighborsClassifier\n",
    "from sklearn.metrics import classification_report\n",
    "from sklearn.preprocessing import MaxAbsScaler"
   ]
  },
  {
   "attachments": {},
   "cell_type": "markdown",
   "metadata": {},
   "source": [
    "##### Função recebe a quantidade de arquivos por classe, o nome da pasta e o nome das classes. Cria o caminho e salva na pasta lista_arquivos. Depois percorre os arquivos, abrindo cada aúdio, extraindo cada informação, aplica um filtro para remover os outliers, deixando apenas as informações menores que -20 e maiores que 20. Sabendo da necessidade de deixar todos os audios com o mesmo tamanho de array, uso a formula int(shape[0]) / 1000, e pego 1000 dados de cada audio, de forma a percorre-los "
   ]
  },
  {
   "cell_type": "code",
   "execution_count": 2,
   "metadata": {},
   "outputs": [],
   "source": [
    "def transform_audios(quantidade_arquivos, pasta, info):\n",
    "\n",
    "    lista_arquivos = []\n",
    "\n",
    "    lista_audios = []\n",
    "\n",
    "    lista_classe = []\n",
    "\n",
    "    for palavra in info:\n",
    "\n",
    "        for i in range(quantidade_arquivos):\n",
    "    \n",
    "            string = f\"{pasta}/{0}{i+1}_{palavra}.mp3\"\n",
    "            lista_arquivos.append(string)\n",
    "\n",
    "            if palavra == \"abrir\":\n",
    "                lista_classe.append(0)\n",
    "\n",
    "            elif palavra == \"compilar\":\n",
    "                lista_classe.append(1)\n",
    "            \n",
    "            elif palavra == \"executar\":\n",
    "                lista_classe.append(2)\n",
    "\n",
    "            else:\n",
    "                lista_classe.append(3)\n",
    "\n",
    "    for arquivo in lista_arquivos:\n",
    "    \n",
    "        sound = AudioSegment.from_mp3(arquivo)\n",
    "        raw_data = sound._data\n",
    "\n",
    "        audio = []\n",
    "        \n",
    "        for si in range(len(raw_data)//2):\n",
    "            sample = int.from_bytes(raw_data[si * 2 : si * 2 + 2], 'little', signed=True)\n",
    "            if sample < -30 or sample > 30:\n",
    "                audio.append(sample)\n",
    "        \n",
    "        audio = np.array(audio)\n",
    "        \n",
    "        shape = audio.shape\n",
    "  \n",
    "        calculo = int(shape[0]) / 4150\n",
    "\n",
    "        calculo = int(calculo)\n",
    "        \n",
    "        audio = audio[::calculo]\n",
    "        \n",
    "        audio = audio[:4150]\n",
    "        \n",
    "        lista_audios.append(audio)\n",
    "\n",
    "    df = pd.DataFrame(lista_audios)\n",
    "    df[\"classe\"] = lista_classe\n",
    "\n",
    "    return df"
   ]
  },
  {
   "attachments": {},
   "cell_type": "markdown",
   "metadata": {},
   "source": [
    "##### Aplicando a função nos arquivos de treinamento e criando x e y para treinamento. Aplicada a função MaxAbsScaler, para normalizar os dados."
   ]
  },
  {
   "cell_type": "code",
   "execution_count": 3,
   "metadata": {},
   "outputs": [],
   "source": [
    "quantidade_arquivos_por_classe = 8\n",
    "\n",
    "info = [\"abrir\", \"compilar\", \"executar\", \"testar\"]\n",
    "\n",
    "pasta = \"audios_treinamento\"\n",
    "\n",
    "arquivos_audio_treinamento = transform_audios(quantidade_arquivos_por_classe, pasta, info)"
   ]
  },
  {
   "cell_type": "code",
   "execution_count": 5,
   "metadata": {},
   "outputs": [],
   "source": [
    "x = arquivos_audio_treinamento.drop(['classe'], axis= 1)"
   ]
  },
  {
   "cell_type": "code",
   "execution_count": 8,
   "metadata": {},
   "outputs": [],
   "source": [
    "# x"
   ]
  },
  {
   "cell_type": "code",
   "execution_count": 6,
   "metadata": {},
   "outputs": [],
   "source": [
    "y = arquivos_audio_treinamento[\"classe\"]"
   ]
  },
  {
   "cell_type": "code",
   "execution_count": 170,
   "metadata": {},
   "outputs": [],
   "source": [
    "# y"
   ]
  },
  {
   "cell_type": "code",
   "execution_count": 9,
   "metadata": {},
   "outputs": [],
   "source": [
    "scaler = MaxAbsScaler().fit(x)  \n",
    "\n",
    "x = scaler.transform(x)"
   ]
  },
  {
   "cell_type": "code",
   "execution_count": 11,
   "metadata": {},
   "outputs": [],
   "source": [
    "# x"
   ]
  },
  {
   "attachments": {},
   "cell_type": "markdown",
   "metadata": {},
   "source": [
    "##### Aplicando a função nos arquivos de teste e criando x_test e y_test, também aplicada função para normalização."
   ]
  },
  {
   "cell_type": "code",
   "execution_count": 12,
   "metadata": {},
   "outputs": [],
   "source": [
    "quantidade_arquivos_por_classe = 2\n",
    "\n",
    "info = [\"abrir\", \"compilar\", \"executar\", \"testar\"]\n",
    "\n",
    "pasta = \"audios_teste\"\n",
    "\n",
    "arquivos_audio_teste = transform_audios(quantidade_arquivos_por_classe ,pasta, info)"
   ]
  },
  {
   "cell_type": "code",
   "execution_count": 13,
   "metadata": {},
   "outputs": [],
   "source": [
    "x_test = arquivos_audio_teste.drop(['classe'], axis= 1)"
   ]
  },
  {
   "cell_type": "code",
   "execution_count": 175,
   "metadata": {},
   "outputs": [],
   "source": [
    "# x_test"
   ]
  },
  {
   "cell_type": "code",
   "execution_count": 14,
   "metadata": {},
   "outputs": [],
   "source": [
    "y_test = arquivos_audio_teste[\"classe\"] "
   ]
  },
  {
   "cell_type": "code",
   "execution_count": 177,
   "metadata": {},
   "outputs": [],
   "source": [
    "# y_test"
   ]
  },
  {
   "cell_type": "code",
   "execution_count": 15,
   "metadata": {},
   "outputs": [],
   "source": [
    "scaler = MaxAbsScaler().fit(x_test)\n",
    "\n",
    "x_test = scaler.transform(x_test)"
   ]
  },
  {
   "cell_type": "code",
   "execution_count": 179,
   "metadata": {},
   "outputs": [],
   "source": [
    "# x_test"
   ]
  },
  {
   "attachments": {},
   "cell_type": "markdown",
   "metadata": {},
   "source": [
    "##### Treinando o algoritmo e testando com os arquivos de teste."
   ]
  },
  {
   "cell_type": "code",
   "execution_count": 16,
   "metadata": {},
   "outputs": [],
   "source": [
    "knn_model = KNeighborsClassifier(n_neighbors=3)\n",
    "knn_model.fit(x, y)\n",
    "\n",
    "y_pred = knn_model.predict(x_test)"
   ]
  },
  {
   "cell_type": "code",
   "execution_count": 17,
   "metadata": {},
   "outputs": [
    {
     "name": "stdout",
     "output_type": "stream",
     "text": [
      "Testando com dados de teste. Score: 50.0 %\n"
     ]
    }
   ],
   "source": [
    "print(f\"Testando com dados de teste. Score: {knn_model.score(x_test, y_test) * 100} %\")"
   ]
  },
  {
   "cell_type": "code",
   "execution_count": 18,
   "metadata": {},
   "outputs": [
    {
     "name": "stdout",
     "output_type": "stream",
     "text": [
      "              precision    recall  f1-score   support\n",
      "\n",
      "           0       0.00      0.00      0.00         0\n",
      "           1       1.00      0.40      0.57         5\n",
      "           2       1.00      0.67      0.80         3\n",
      "           3       0.00      0.00      0.00         0\n",
      "\n",
      "    accuracy                           0.50         8\n",
      "   macro avg       0.50      0.27      0.34         8\n",
      "weighted avg       1.00      0.50      0.66         8\n",
      "\n"
     ]
    },
    {
     "name": "stderr",
     "output_type": "stream",
     "text": [
      "/home/dev/.local/lib/python3.10/site-packages/sklearn/metrics/_classification.py:1327: UndefinedMetricWarning: Recall and F-score are ill-defined and being set to 0.0 in labels with no true samples. Use `zero_division` parameter to control this behavior.\n",
      "  _warn_prf(average, modifier, msg_start, len(result))\n",
      "/home/dev/.local/lib/python3.10/site-packages/sklearn/metrics/_classification.py:1327: UndefinedMetricWarning: Recall and F-score are ill-defined and being set to 0.0 in labels with no true samples. Use `zero_division` parameter to control this behavior.\n",
      "  _warn_prf(average, modifier, msg_start, len(result))\n",
      "/home/dev/.local/lib/python3.10/site-packages/sklearn/metrics/_classification.py:1327: UndefinedMetricWarning: Recall and F-score are ill-defined and being set to 0.0 in labels with no true samples. Use `zero_division` parameter to control this behavior.\n",
      "  _warn_prf(average, modifier, msg_start, len(result))\n"
     ]
    }
   ],
   "source": [
    "y_pred = pd.DataFrame(y_pred)\n",
    "\n",
    "y_pred = y_pred.astype(int)\n",
    "\n",
    "print(classification_report(y_pred, y_test))"
   ]
  },
  {
   "attachments": {},
   "cell_type": "markdown",
   "metadata": {},
   "source": [
    "##### Treinando o algoritmo, Embaralhando os dados e testando com dados de treinamento."
   ]
  },
  {
   "cell_type": "code",
   "execution_count": 19,
   "metadata": {},
   "outputs": [],
   "source": [
    "knn_model = KNeighborsClassifier(n_neighbors=1)\n",
    "knn_model.fit(x, y)\n",
    "\n",
    "arquivos_audio_teste = arquivos_audio_treinamento.sort_values(0) "
   ]
  },
  {
   "cell_type": "code",
   "execution_count": 20,
   "metadata": {},
   "outputs": [],
   "source": [
    "x_test = arquivos_audio_teste.drop(['classe'], axis= 1)\n",
    "y_test = arquivos_audio_teste[\"classe\"] "
   ]
  },
  {
   "cell_type": "code",
   "execution_count": 185,
   "metadata": {},
   "outputs": [],
   "source": [
    "# x_test"
   ]
  },
  {
   "cell_type": "code",
   "execution_count": 186,
   "metadata": {},
   "outputs": [],
   "source": [
    "# y_test"
   ]
  },
  {
   "cell_type": "code",
   "execution_count": 21,
   "metadata": {},
   "outputs": [
    {
     "name": "stdout",
     "output_type": "stream",
     "text": [
      "Testando com dados de treinamento. Score: 100.0 %\n"
     ]
    }
   ],
   "source": [
    "y_pred = knn_model.predict(x_test)\n",
    "\n",
    "print(f\"Testando com dados de treinamento. Score: {knn_model.score(x_test, y_test) * 100} %\")"
   ]
  },
  {
   "cell_type": "code",
   "execution_count": 22,
   "metadata": {},
   "outputs": [
    {
     "name": "stdout",
     "output_type": "stream",
     "text": [
      "              precision    recall  f1-score   support\n",
      "\n",
      "           0       1.00      1.00      1.00         8\n",
      "           1       1.00      1.00      1.00         8\n",
      "           2       1.00      1.00      1.00         8\n",
      "           3       1.00      1.00      1.00         8\n",
      "\n",
      "    accuracy                           1.00        32\n",
      "   macro avg       1.00      1.00      1.00        32\n",
      "weighted avg       1.00      1.00      1.00        32\n",
      "\n"
     ]
    }
   ],
   "source": [
    "y_pred = pd.DataFrame(y_pred)\n",
    "\n",
    "y_pred = y_pred.astype(int)\n",
    "\n",
    "print(classification_report(y_pred, y_test))"
   ]
  }
 ],
 "metadata": {
  "kernelspec": {
   "display_name": "Python 3",
   "language": "python",
   "name": "python3"
  },
  "language_info": {
   "codemirror_mode": {
    "name": "ipython",
    "version": 3
   },
   "file_extension": ".py",
   "mimetype": "text/x-python",
   "name": "python",
   "nbconvert_exporter": "python",
   "pygments_lexer": "ipython3",
   "version": "3.10.6"
  },
  "orig_nbformat": 4,
  "vscode": {
   "interpreter": {
    "hash": "31f2aee4e71d21fbe5cf8b01ff0e069b9275f58929596ceb00d14d90e3e16cd6"
   }
  }
 },
 "nbformat": 4,
 "nbformat_minor": 2
}
